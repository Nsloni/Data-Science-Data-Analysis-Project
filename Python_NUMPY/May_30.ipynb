{
 "cells": [
  {
   "cell_type": "code",
   "execution_count": 1,
   "id": "91f28b4a-066a-4b26-9e2f-729da3485557",
   "metadata": {},
   "outputs": [
    {
     "name": "stdout",
     "output_type": "stream",
     "text": [
      "[1 2 3 4 5]\n"
     ]
    }
   ],
   "source": [
    "import numpy as ns\n",
    "a = ns.array([1,2,3,4,5])\n",
    "print(a)"
   ]
  },
  {
   "cell_type": "code",
   "execution_count": 2,
   "id": "b37500ae-0a01-41f3-ac6e-e41f5a3c663b",
   "metadata": {},
   "outputs": [
    {
     "name": "stdout",
     "output_type": "stream",
     "text": [
      "[ 2  4  6  8 10]\n"
     ]
    }
   ],
   "source": [
    "# Broadcasting \n",
    "\n",
    "var1 = ns.array([1,2,3,4,5])\n",
    "var2 = ns.array([1,2,3,4,5])\n",
    "print(var1 + var2)"
   ]
  },
  {
   "cell_type": "code",
   "execution_count": 3,
   "id": "274e1057-b5d0-4de6-90b1-0e01d4bdfd36",
   "metadata": {},
   "outputs": [
    {
     "ename": "ValueError",
     "evalue": "operands could not be broadcast together with shapes (5,) (4,) ",
     "output_type": "error",
     "traceback": [
      "\u001b[1;31m---------------------------------------------------------------------------\u001b[0m",
      "\u001b[1;31mValueError\u001b[0m                                Traceback (most recent call last)",
      "Cell \u001b[1;32mIn[3], line 3\u001b[0m\n\u001b[0;32m      1\u001b[0m var1 \u001b[38;5;241m=\u001b[39m ns\u001b[38;5;241m.\u001b[39marray([\u001b[38;5;241m1\u001b[39m,\u001b[38;5;241m2\u001b[39m,\u001b[38;5;241m3\u001b[39m,\u001b[38;5;241m4\u001b[39m,\u001b[38;5;241m5\u001b[39m])\n\u001b[0;32m      2\u001b[0m var2 \u001b[38;5;241m=\u001b[39m ns\u001b[38;5;241m.\u001b[39marray([\u001b[38;5;241m1\u001b[39m,\u001b[38;5;241m3\u001b[39m,\u001b[38;5;241m4\u001b[39m,\u001b[38;5;241m5\u001b[39m])\n\u001b[1;32m----> 3\u001b[0m \u001b[38;5;28mprint\u001b[39m(\u001b[43mvar1\u001b[49m\u001b[43m \u001b[49m\u001b[38;5;241;43m+\u001b[39;49m\u001b[43m \u001b[49m\u001b[43mvar2\u001b[49m)\n",
      "\u001b[1;31mValueError\u001b[0m: operands could not be broadcast together with shapes (5,) (4,) "
     ]
    }
   ],
   "source": [
    "var1 = ns.array([1,2,3,4,5])\n",
    "var2 = ns.array([1,3,4,5])\n",
    "print(var1 + var2)\n",
    "\n",
    "# var1, no.of col = var2, no.of col "
   ]
  },
  {
   "cell_type": "code",
   "execution_count": 4,
   "id": "44ea6ec9-bc6a-4e3f-b9ad-b959f2a5a2cc",
   "metadata": {},
   "outputs": [
    {
     "name": "stdout",
     "output_type": "stream",
     "text": [
      "(5,)\n"
     ]
    }
   ],
   "source": [
    "var1 = ns.array([1,2,3,4,5])\n",
    "print(var1.shape)"
   ]
  },
  {
   "cell_type": "code",
   "execution_count": 5,
   "id": "0926096d-df70-4f99-af82-6a8dbe085d06",
   "metadata": {},
   "outputs": [
    {
     "ename": "TypeError",
     "evalue": "Field elements must be 2- or 3-tuples, got '1'",
     "output_type": "error",
     "traceback": [
      "\u001b[1;31m---------------------------------------------------------------------------\u001b[0m",
      "\u001b[1;31mTypeError\u001b[0m                                 Traceback (most recent call last)",
      "Cell \u001b[1;32mIn[5], line 1\u001b[0m\n\u001b[1;32m----> 1\u001b[0m var1 \u001b[38;5;241m=\u001b[39m \u001b[43mns\u001b[49m\u001b[38;5;241;43m.\u001b[39;49m\u001b[43marray\u001b[49m\u001b[43m(\u001b[49m\u001b[43m[\u001b[49m\u001b[38;5;241;43m1\u001b[39;49m\u001b[43m,\u001b[49m\u001b[38;5;241;43m2\u001b[39;49m\u001b[43m,\u001b[49m\u001b[38;5;241;43m3\u001b[39;49m\u001b[43m,\u001b[49m\u001b[38;5;241;43m4\u001b[39;49m\u001b[43m,\u001b[49m\u001b[38;5;241;43m5\u001b[39;49m\u001b[43m]\u001b[49m\u001b[43m,\u001b[49m\u001b[43m[\u001b[49m\u001b[38;5;241;43m1\u001b[39;49m\u001b[43m,\u001b[49m\u001b[38;5;241;43m2\u001b[39;49m\u001b[43m,\u001b[49m\u001b[38;5;241;43m3\u001b[39;49m\u001b[43m,\u001b[49m\u001b[38;5;241;43m4\u001b[39;49m\u001b[43m,\u001b[49m\u001b[38;5;241;43m4\u001b[39;49m\u001b[43m]\u001b[49m\u001b[43m)\u001b[49m\n\u001b[0;32m      2\u001b[0m \u001b[38;5;28mprint\u001b[39m(var1\u001b[38;5;241m.\u001b[39mshape)\n",
      "\u001b[1;31mTypeError\u001b[0m: Field elements must be 2- or 3-tuples, got '1'"
     ]
    }
   ],
   "source": [
    "var1 = ns.array([1,2,3,4,5],[1,2,3,4,4])\n",
    "print(var1.shape)"
   ]
  },
  {
   "cell_type": "code",
   "execution_count": 6,
   "id": "db5620fd-a3ee-47a0-9e5e-83ef6fbbc73d",
   "metadata": {},
   "outputs": [
    {
     "name": "stdout",
     "output_type": "stream",
     "text": [
      "(2, 5)\n"
     ]
    }
   ],
   "source": [
    "var1 = ns.array([[1,2,3,4,5],[1,2,3,4,4]])\n",
    "print(var1.shape)"
   ]
  },
  {
   "cell_type": "code",
   "execution_count": 12,
   "id": "37999c92-94a6-4bb5-9114-2ba6f2b846aa",
   "metadata": {},
   "outputs": [
    {
     "name": "stdout",
     "output_type": "stream",
     "text": [
      "(2, 5)\n",
      "(2, 4)\n"
     ]
    },
    {
     "ename": "ValueError",
     "evalue": "operands could not be broadcast together with shapes (2,5) (2,4) ",
     "output_type": "error",
     "traceback": [
      "\u001b[1;31m---------------------------------------------------------------------------\u001b[0m",
      "\u001b[1;31mValueError\u001b[0m                                Traceback (most recent call last)",
      "Cell \u001b[1;32mIn[12], line 11\u001b[0m\n\u001b[0;32m      8\u001b[0m var2 \u001b[38;5;241m=\u001b[39m ns\u001b[38;5;241m.\u001b[39marray([[\u001b[38;5;241m1\u001b[39m,\u001b[38;5;241m2\u001b[39m,\u001b[38;5;241m3\u001b[39m,\u001b[38;5;241m5\u001b[39m],[\u001b[38;5;241m1\u001b[39m,\u001b[38;5;241m2\u001b[39m,\u001b[38;5;241m3\u001b[39m,\u001b[38;5;241m4\u001b[39m]])\n\u001b[0;32m      9\u001b[0m \u001b[38;5;28mprint\u001b[39m(var2\u001b[38;5;241m.\u001b[39mshape)\n\u001b[1;32m---> 11\u001b[0m \u001b[38;5;28mprint\u001b[39m(\u001b[43mvar1\u001b[49m\u001b[43m \u001b[49m\u001b[38;5;241;43m+\u001b[39;49m\u001b[43m \u001b[49m\u001b[43mvar2\u001b[49m)\n",
      "\u001b[1;31mValueError\u001b[0m: operands could not be broadcast together with shapes (2,5) (2,4) "
     ]
    }
   ],
   "source": [
    "# [1,2,3]    [1]   # output = [2,3,4]\n",
    "#            [2]              [3,4,5]\n",
    "#            [3]              [4,5,6]\n",
    "\n",
    "var1 = ns.array([[1,2,3,4,5],[1,2,3,4,4]])\n",
    "print(var1.shape)\n",
    "\n",
    "var2 = ns.array([[1,2,3,5],[1,2,3,4]])\n",
    "print(var2.shape)\n",
    "\n",
    "print(var1 + var2)"
   ]
  },
  {
   "cell_type": "code",
   "execution_count": 13,
   "id": "a41c0ec5-581d-410a-85f4-8de238431c36",
   "metadata": {},
   "outputs": [
    {
     "name": "stdout",
     "output_type": "stream",
     "text": [
      "(2, 4)\n",
      "(2, 4)\n",
      "[[2 4 6 8]\n",
      " [2 4 6 8]]\n"
     ]
    }
   ],
   "source": [
    "import numpy as np\n",
    "\n",
    "var1 = np.array([[1,2,3,4],[1,2,3,4]])\n",
    "print(var1.shape)\n",
    "\n",
    "var2 = np.array([[1,2,3,4],[1,2,3,4]])\n",
    "print(var2.shape)\n",
    "\n",
    "print(var1 + var2)"
   ]
  },
  {
   "cell_type": "code",
   "execution_count": 17,
   "id": "f11d366e-c4aa-4332-8103-2c17dc2c4954",
   "metadata": {},
   "outputs": [
    {
     "name": "stdout",
     "output_type": "stream",
     "text": [
      "8\n",
      "8\n"
     ]
    }
   ],
   "source": [
    "# Indexing and Slicing\n",
    "\n",
    "# indexing\n",
    "# 1-D\n",
    "\n",
    "arr = np.array([9,8,7,6])\n",
    "print(arr[1])\n",
    "print(arr[-3])"
   ]
  },
  {
   "cell_type": "code",
   "execution_count": 20,
   "id": "604e91fe-2d64-4ad6-8626-1d1bc2203bbf",
   "metadata": {},
   "outputs": [
    {
     "name": "stdout",
     "output_type": "stream",
     "text": [
      "[[2 3 4]\n",
      " [6 7 8]]\n",
      "2\n",
      "4\n"
     ]
    }
   ],
   "source": [
    "# indexing\n",
    "# 2-D\n",
    "\n",
    "arr = np.array([[2,3,4],[6,7,8]])\n",
    "print(arr)\n",
    "print(arr.ndim)\n",
    "\n",
    "print(arr[0,2])"
   ]
  },
  {
   "cell_type": "code",
   "execution_count": 29,
   "id": "d4692da3-f942-4459-ab5c-ce1edb44cfad",
   "metadata": {},
   "outputs": [
    {
     "name": "stdout",
     "output_type": "stream",
     "text": [
      "[[[2 3 4]\n",
      "  [6 7 8]]]\n",
      "3\n",
      "(1, 2, 3)\n",
      "7\n",
      "6\n"
     ]
    }
   ],
   "source": [
    "# 3-D\n",
    "\n",
    "arr1 = np.array([[[2,3,4],[6,7,8]]])\n",
    "print(arr1)\n",
    "print(arr1.ndim)\n",
    "print(arr1.shape)\n",
    "\n",
    "print(arr1[0,1,1])\n",
    "\n",
    "print(arr1[0,1,0])"
   ]
  },
  {
   "cell_type": "code",
   "execution_count": 41,
   "id": "d51008f6-a161-4b4f-8a74-fb7813be9d0d",
   "metadata": {},
   "outputs": [
    {
     "name": "stdout",
     "output_type": "stream",
     "text": [
      " 2 To 5:  [3 4 5]\n",
      " upto To 5:  [1 2 3 4 5]\n",
      " 2 To last:  [3 4 5 6 7 8]\n",
      "-Ve:  [3 4 5 6 7]\n",
      " sssssdsds  [1 3 5 7]\n",
      " sssssdsds  [8 7 6 5 4 3 2 1]\n",
      "Stop :  [2 4 6]\n",
      "[1 2 3 4 5 6 7 8]\n"
     ]
    }
   ],
   "source": [
    "# Slicing\n",
    "\n",
    "import numpy as nagaraj\n",
    "\n",
    "arr1 = nagaraj.array([1,2,3,4,5,6,7,8])\n",
    "print(\" 2 To 5: \", arr1[2:5])\n",
    "print(\" upto To 5: \", arr1[:5])\n",
    "print(\" 2 To last: \", arr1[2:])\n",
    "print(\"-Ve: \",arr1[-6:-1])\n",
    "print(\" sssssdsds \", arr1[::2])\n",
    "print(\" sssssdsds \", arr1[::-1])\n",
    "print(\"Stop : \",arr1[1:6:2])\n",
    "\n",
    "\n",
    "print(arr1)"
   ]
  },
  {
   "cell_type": "code",
   "execution_count": 45,
   "id": "6e2be38a-4624-4a06-b647-e49fab115c0c",
   "metadata": {},
   "outputs": [
    {
     "name": "stdout",
     "output_type": "stream",
     "text": [
      "[[  1   2   3   4   5]\n",
      " [ 11  22  33  44  55]\n",
      " [111 222 333 444 555]]\n",
      "2-D indexing:  [22 33 44 55]\n",
      "2-D indexing:  [33 44 55]\n",
      "2-D indexing:  [222 333 444 555]\n"
     ]
    }
   ],
   "source": [
    "arr2 = nagaraj.array([[1,2,3,4,5],[11,22,33,44,55],[111,222,333,444,555]])\n",
    "print(arr2)\n",
    "\n",
    "print(\"2-D indexing: \", arr2[1,1:])\n",
    "\n",
    "print(\"2-D indexing: \", arr2[1,2:])\n",
    "\n",
    "print(\"2-D indexing: \", arr2[2,1:])"
   ]
  },
  {
   "cell_type": "code",
   "execution_count": 49,
   "id": "9ee8b6b4-71b5-42e3-be08-9ca63772db88",
   "metadata": {},
   "outputs": [
    {
     "name": "stdout",
     "output_type": "stream",
     "text": [
      "[  1   2   3   4  54 566   7   7   8   8   9]\n",
      "11\n",
      "1\n",
      "2\n",
      "3\n",
      "4\n",
      "54\n",
      "566\n",
      "7\n",
      "7\n",
      "8\n",
      "8\n",
      "9\n"
     ]
    }
   ],
   "source": [
    "# NumPy Array Iterating\n",
    "\n",
    "# for  loop\n",
    "#  Iteration\n",
    "\n",
    "# 1-D\n",
    "\n",
    "import numpy as ns\n",
    "\n",
    "arr = ns.array([1,2,3,4,54,566,7,7,8,8,9])\n",
    "print(arr)\n",
    "print(arr.size)\n",
    "\n",
    "for i in arr:\n",
    "    print(i)"
   ]
  },
  {
   "cell_type": "code",
   "execution_count": 53,
   "id": "0d371594-ee87-4896-bd21-8d96cb39d4b3",
   "metadata": {},
   "outputs": [
    {
     "name": "stdout",
     "output_type": "stream",
     "text": [
      "[[1 2 3 4]\n",
      " [5 6 7 8]]\n",
      "\n",
      "1\n",
      "2\n",
      "3\n",
      "4\n",
      "5\n",
      "6\n",
      "7\n",
      "8\n"
     ]
    }
   ],
   "source": [
    "# 2-D\n",
    "\n",
    "#  Iterration\n",
    "\n",
    "arr1 = ns.array([[1,2,3,4],[5,6,7,8]])\n",
    "print(arr1)\n",
    "\n",
    "print()\n",
    "\n",
    "for  j in arr1:\n",
    "    for k in j:\n",
    "        print(k)"
   ]
  },
  {
   "cell_type": "code",
   "execution_count": 57,
   "id": "d4e665c4-e78f-4f53-9ec3-3a89891b6c64",
   "metadata": {},
   "outputs": [
    {
     "name": "stdout",
     "output_type": "stream",
     "text": [
      "[[[1 2 3 4]\n",
      "  [6 7 8 9]]]\n"
     ]
    },
    {
     "ename": "NameError",
     "evalue": "name 'K' is not defined",
     "output_type": "error",
     "traceback": [
      "\u001b[1;31m---------------------------------------------------------------------------\u001b[0m",
      "\u001b[1;31mNameError\u001b[0m                                 Traceback (most recent call last)",
      "Cell \u001b[1;32mIn[57], line 11\u001b[0m\n\u001b[0;32m      9\u001b[0m \u001b[38;5;28;01mfor\u001b[39;00m j \u001b[38;5;129;01min\u001b[39;00m i:\n\u001b[0;32m     10\u001b[0m     \u001b[38;5;28;01mfor\u001b[39;00m k \u001b[38;5;129;01min\u001b[39;00m j:\n\u001b[1;32m---> 11\u001b[0m         \u001b[38;5;28mprint\u001b[39m(\u001b[43mK\u001b[49m)\n",
      "\u001b[1;31mNameError\u001b[0m: name 'K' is not defined"
     ]
    }
   ],
   "source": [
    "# 3-D\n",
    "\n",
    "#  Iterration\n",
    "import numpy as ns\n",
    "arr2 = ns.array([[[1,2,3,4],[6,7,8,9]]])\n",
    "print(arr2)\n",
    "\n",
    "for i in arr2:\n",
    "    for j in i:\n",
    "        for k in j:\n",
    "            print(K)\n",
    "\n"
   ]
  },
  {
   "cell_type": "code",
   "execution_count": 58,
   "id": "a945f83a-ec59-415e-8ccf-18c5af448b1f",
   "metadata": {},
   "outputs": [
    {
     "name": "stdout",
     "output_type": "stream",
     "text": [
      "[[[1 2 3 4]\n",
      "  [6 7 8 9]]]\n",
      "1\n",
      "2\n",
      "3\n",
      "4\n",
      "6\n",
      "7\n",
      "8\n",
      "9\n"
     ]
    }
   ],
   "source": [
    "# 3-D\n",
    "\n",
    "import numpy as np\n",
    "\n",
    "arr2 = np.array([[[1,2,3,4],[6,7,8,9]]])\n",
    "print(arr2)\n",
    "\n",
    "for i in arr2:\n",
    "    for j in i:\n",
    "        for k in j:\n",
    "            print(k)"
   ]
  },
  {
   "cell_type": "code",
   "execution_count": 60,
   "id": "269fe329-451c-4887-8b2d-23341a4c2ec6",
   "metadata": {},
   "outputs": [
    {
     "name": "stdout",
     "output_type": "stream",
     "text": [
      "[[[1 2 3 4]\n",
      "  [6 7 8 9]]]\n",
      "(0, 0, 0) 1\n",
      "(0, 0, 1) 2\n",
      "(0, 0, 2) 3\n",
      "(0, 0, 3) 4\n",
      "(0, 1, 0) 6\n",
      "(0, 1, 1) 7\n",
      "(0, 1, 2) 8\n",
      "(0, 1, 3) 9\n"
     ]
    }
   ],
   "source": [
    "# Enumerater   idx's\n",
    "\n",
    "import numpy as np\n",
    "\n",
    "arr2 = np.array([[[1,2,3,4],[6,7,8,9]]])\n",
    "print(arr2)\n",
    "\n",
    "for i, d in np.ndenumerate(arr2):\n",
    "    print(i,d)"
   ]
  },
  {
   "cell_type": "code",
   "execution_count": 65,
   "id": "df6ce02a-a32d-4d7f-912f-176d8ae9dc78",
   "metadata": {},
   "outputs": [
    {
     "name": "stdout",
     "output_type": "stream",
     "text": [
      "Var :  [  1   2 200   4]\n",
      "Copy :  [1 2 3 4]\n"
     ]
    }
   ],
   "source": [
    "# Copy v/s  View\n",
    "\n",
    "# COPY\n",
    "\n",
    "\n",
    "import numpy as np\n",
    "\n",
    "arr2 = np.array([ 1,2,3,4])\n",
    "\n",
    "copy = arr2.copy()\n",
    "view = arr2.view()\n",
    "# Add new one\n",
    "arr2[2] = 200;\n",
    "\n",
    "print(\"Var : \",view)\n",
    "print(\"Copy : \",copy)"
   ]
  },
  {
   "cell_type": "code",
   "execution_count": 68,
   "id": "ce8cc4e9-977d-4e31-8846-1dd1a21565b1",
   "metadata": {},
   "outputs": [
    {
     "name": "stdout",
     "output_type": "stream",
     "text": [
      "[1 2 3 4 9 8 7 6]\n"
     ]
    }
   ],
   "source": [
    "# Join___ARRAY   and Split__ARRAY\n",
    "\n",
    "import numpy as np\n",
    "\n",
    "arr1 = np.array([1,2,3,4])\n",
    "arr2 = np.array([9,8,7,6])\n",
    "\n",
    "res_arr = np.concatenate((arr1,arr2))\n",
    "print(res_arr)\n"
   ]
  },
  {
   "cell_type": "code",
   "execution_count": 69,
   "id": "733fe376-98b9-4b72-83ce-57034de4d89c",
   "metadata": {},
   "outputs": [
    {
     "name": "stdout",
     "output_type": "stream",
     "text": [
      "[[1 2]\n",
      " [3 4]]\n",
      "\n",
      "[[9 8]\n",
      " [7 6]]\n",
      "\n",
      "[[1 2 9 8]\n",
      " [3 4 7 6]]\n"
     ]
    }
   ],
   "source": [
    "# Concatenate\n",
    "\n",
    "arr3 = np.array([[1,2],[3,4]])\n",
    "arr4 = np.array([[9,8],[7,6]])\n",
    "\n",
    "res = np.concatenate((arr3,arr4),axis=1)\n",
    "print(arr3)\n",
    "print()\n",
    "print(arr4)\n",
    "print()\n",
    "print(res)"
   ]
  },
  {
   "cell_type": "code",
   "execution_count": 70,
   "id": "d4905268-cc2c-47eb-a579-3fa87ef44c2e",
   "metadata": {},
   "outputs": [
    {
     "name": "stdout",
     "output_type": "stream",
     "text": [
      "[1 2 3 4]\n",
      "\n",
      "[5 6 7 8]\n",
      "\n",
      "[[1 5]\n",
      " [2 6]\n",
      " [3 7]\n",
      " [4 8]]\n"
     ]
    }
   ],
   "source": [
    "# Using STACK\n",
    "\n",
    "arr3 = np.array([1,2,3,4])\n",
    "arr4 = np.array([5,6,7,8])\n",
    "\n",
    "res = np.stack((arr3,arr4),axis=1)\n",
    "print(arr3)\n",
    "print()\n",
    "print(arr4)\n",
    "print()\n",
    "print(res)"
   ]
  },
  {
   "cell_type": "code",
   "execution_count": 72,
   "id": "31de65f0-3e48-4a80-8330-eabf2d440ffb",
   "metadata": {},
   "outputs": [
    {
     "name": "stdout",
     "output_type": "stream",
     "text": [
      "[1 2 3 4]\n",
      "\n",
      "[5 6 7 8]\n",
      "\n",
      "[1 2 3 4 5 6 7 8]\n"
     ]
    }
   ],
   "source": [
    "# Using STACK----H-----ROW\n",
    "\n",
    "arr3 = np.array([1,2,3,4])\n",
    "arr4 = np.array([5,6,7,8])\n",
    "\n",
    "res = np.hstack((arr3,arr4))\n",
    "print(arr3)\n",
    "print()\n",
    "print(arr4)\n",
    "print()\n",
    "print(res)"
   ]
  },
  {
   "cell_type": "code",
   "execution_count": 73,
   "id": "cf501153-e3a4-4d00-bdbd-688fceb7e692",
   "metadata": {},
   "outputs": [
    {
     "name": "stdout",
     "output_type": "stream",
     "text": [
      "[1 2 3 4]\n",
      "\n",
      "[5 6 7 8]\n",
      "\n",
      "[[1 2 3 4]\n",
      " [5 6 7 8]]\n"
     ]
    }
   ],
   "source": [
    "# Using STACK----V------COLUMN\n",
    "\n",
    "arr3 = np.array([1,2,3,4])\n",
    "arr4 = np.array([5,6,7,8])\n",
    "\n",
    "res = np.vstack((arr3,arr4))\n",
    "print(arr3)\n",
    "print()\n",
    "print(arr4)\n",
    "print()\n",
    "print(res)"
   ]
  },
  {
   "cell_type": "code",
   "execution_count": 74,
   "id": "88f5951c-f449-4c73-b4e0-3dfa77c0b040",
   "metadata": {},
   "outputs": [
    {
     "name": "stdout",
     "output_type": "stream",
     "text": [
      "[1 2 3 4]\n",
      "\n",
      "[5 6 7 8]\n",
      "\n",
      "[[[1 5]\n",
      "  [2 6]\n",
      "  [3 7]\n",
      "  [4 8]]]\n"
     ]
    }
   ],
   "source": [
    "# Using STACK----D-------HEIGHT\n",
    "\n",
    "arr3 = np.array([1,2,3,4])\n",
    "arr4 = np.array([5,6,7,8])\n",
    "\n",
    "res = np.dstack((arr3,arr4))\n",
    "print(arr3)\n",
    "print()\n",
    "print(arr4)\n",
    "print()\n",
    "print(res)"
   ]
  },
  {
   "cell_type": "code",
   "execution_count": 75,
   "id": "ae253592-14d2-484a-bf41-515bca8be667",
   "metadata": {},
   "outputs": [
    {
     "name": "stdout",
     "output_type": "stream",
     "text": [
      "[[[1 5]\n",
      "  [2 6]\n",
      "  [3 7]\n",
      "  [4 8]]]\n",
      "[[1 2 3 4]\n",
      " [5 6 7 8]]\n",
      "[[1 2 3 4]\n",
      " [5 6 7 8]]\n"
     ]
    }
   ],
   "source": [
    "# Array ROW/COL/HET\n",
    "\n",
    "\n",
    "arr3 = np.array([1,2,3,4])\n",
    "arr4 = np.array([5,6,7,8])\n",
    "\n",
    "res = np.dstack((arr3,arr4))\n",
    "res1 = np.vstack((arr3,arr4))\n",
    "res2 = np.vstack((arr3,arr4))\n",
    "\n",
    "\n",
    "print(res)\n",
    "print(res1)\n",
    "print(res2)"
   ]
  },
  {
   "cell_type": "code",
   "execution_count": 78,
   "id": "a2a5b7cc-b7f2-4805-9a23-c0d62521a652",
   "metadata": {},
   "outputs": [
    {
     "name": "stdout",
     "output_type": "stream",
     "text": [
      "[1 2 3 4 5 6]\n",
      "[array([1, 2]), array([3, 4]), array([5, 6])]\n",
      "<class 'list'>\n"
     ]
    }
   ],
   "source": [
    "# Split Array\n",
    "\n",
    "# 1-D\n",
    "\n",
    "import numpy as np\n",
    "\n",
    "arr = np.array([1,2,3,4,5,6])\n",
    "\n",
    "print(arr)\n",
    "\n",
    "res = np.array_split(arr,3)\n",
    "print(res)\n",
    "print(type(res))"
   ]
  },
  {
   "cell_type": "code",
   "execution_count": 80,
   "id": "a3565356-a1cb-40a1-a3bc-3e009a5151b8",
   "metadata": {},
   "outputs": [
    {
     "name": "stdout",
     "output_type": "stream",
     "text": [
      "[[1 2]\n",
      " [3 4]\n",
      " [5 6]]\n",
      "[array([[1, 2]]), array([[3, 4]]), array([[5, 6]])]\n",
      "<class 'list'>\n"
     ]
    }
   ],
   "source": [
    "# Split Array\n",
    "\n",
    "# 2-D\n",
    "\n",
    "import numpy as np\n",
    "\n",
    "arr1 = np.array([[1,2],[3,4],[5,6]])\n",
    "\n",
    "print(arr1)\n",
    "\n",
    "res = np.array_split(arr1,3)\n",
    "print(res)\n",
    "print(type(res))"
   ]
  },
  {
   "cell_type": "code",
   "execution_count": 85,
   "id": "9821eeeb-2cc2-4c11-81b9-c67d5474651b",
   "metadata": {},
   "outputs": [
    {
     "name": "stdout",
     "output_type": "stream",
     "text": [
      "(array([11], dtype=int64),)\n",
      "even:  (array([ 0,  2,  4,  6,  8, 12, 13], dtype=int64),)\n"
     ]
    }
   ],
   "source": [
    "# Search\n",
    "\n",
    "import numpy as ns\n",
    "\n",
    "arr = ns.array([1,2,3,4,5,6,7,8,9,12,4,56,3453,565])\n",
    "\n",
    "x = np.where(arr == 56)\n",
    "even = np.where((arr%2) != 0)  # print IDX\n",
    "print(x)\n",
    "print(\"even: \",even)"
   ]
  },
  {
   "cell_type": "code",
   "execution_count": 91,
   "id": "0b25d14c-bac7-4ad7-90a4-2298e5c6d1f5",
   "metadata": {},
   "outputs": [
    {
     "name": "stdout",
     "output_type": "stream",
     "text": [
      "8\n",
      "[  1   2   3   3   3   3   3   4   5   6   7   8   9  12 565]\n"
     ]
    }
   ],
   "source": [
    "# Search Sorted Array\n",
    "\n",
    "import numpy as ns\n",
    "\n",
    "arr1 = ns.array([1,2,3,3,3,3,3,4,5,6,7,8,9,12,565])\n",
    "\n",
    "x1 = np.searchsorted(arr1,5)  # Where inert for inc order\n",
    "print(x1)\n",
    "print(arr1)"
   ]
  },
  {
   "cell_type": "code",
   "execution_count": 92,
   "id": "1b37d9c8-b467-4946-a302-e72a11e102be",
   "metadata": {},
   "outputs": [
    {
     "name": "stdout",
     "output_type": "stream",
     "text": [
      "[  9   7   4   2   4   6   7   4  35   6   4   3  55   3 464  54 234]\n",
      "[  2   3   3   4   4   4   4   6   6   7   7   9  35  54  55 234 464]\n"
     ]
    }
   ],
   "source": [
    "# Sortded ------Incresing Order\n",
    "\n",
    "arr10 = np.array([9,7,4,2,4,6,7,4,35,6,4,3,55,3,464,54,234])\n",
    "\n",
    "print(arr10)\n",
    "\n",
    "print(np.sort(arr10))"
   ]
  },
  {
   "cell_type": "code",
   "execution_count": 93,
   "id": "2fc39f53-6562-4b52-ae91-fbd90031d114",
   "metadata": {},
   "outputs": [
    {
     "name": "stdout",
     "output_type": "stream",
     "text": [
      "['a' 'E' 'I' 'o' 'U']\n",
      "['E' 'I' 'U' 'a' 'o']\n"
     ]
    }
   ],
   "source": [
    "# Sortded ------Incresing Order  ----ChAR\n",
    "\n",
    "arr10 = np.array([\"a\",\"E\",\"I\",\"o\",\"U\"])\n",
    "\n",
    "print(arr10)\n",
    "\n",
    "print(np.sort(arr10))"
   ]
  },
  {
   "cell_type": "code",
   "execution_count": 95,
   "id": "785719e4-dd78-470b-ae63-e943f76b93ae",
   "metadata": {},
   "outputs": [
    {
     "name": "stdout",
     "output_type": "stream",
     "text": [
      "[[ 9  7  4  2]\n",
      " [ 3  7  3 67]]\n",
      "[[ 2  4  7  9]\n",
      " [ 3  3  7 67]]\n"
     ]
    }
   ],
   "source": [
    "# Sortded ------Incresing Order----2-D _________ARRAY\n",
    "\n",
    "arr10 = np.array([[9,7,4,2],[3,7,3,67]])\n",
    "\n",
    "print(arr10)\n",
    "\n",
    "print(np.sort(arr10))"
   ]
  },
  {
   "cell_type": "code",
   "execution_count": 96,
   "id": "b2a9d737-6204-44be-8900-1f346bb712e0",
   "metadata": {},
   "outputs": [
    {
     "name": "stdout",
     "output_type": "stream",
     "text": [
      "[3 4 2 1]\n"
     ]
    }
   ],
   "source": [
    "#  Functions\n",
    "\n",
    "#  Shuffle\n",
    "\n",
    "import numpy as np\n",
    "\n",
    "arr = np.array([1,2,3,4])\n",
    "\n",
    "np.random.shuffle(arr)\n",
    "print(arr)\n"
   ]
  },
  {
   "cell_type": "code",
   "execution_count": 100,
   "id": "b1ff38fe-4809-40bd-a712-912ff61fc8ba",
   "metadata": {},
   "outputs": [
    {
     "name": "stdout",
     "output_type": "stream",
     "text": [
      "(array([1, 2, 3, 4]), array([0, 2, 4, 9], dtype=int64), array([2, 3, 4, 1], dtype=int64))\n"
     ]
    }
   ],
   "source": [
    "# Unique\n",
    "\n",
    "import numpy as np\n",
    "\n",
    "arr = np.array([1,1,2,2,3,3,3,2,3,4])\n",
    "\n",
    "x = np.unique(arr, return_index=True, return_counts=True)\n",
    "print(x)"
   ]
  },
  {
   "cell_type": "code",
   "execution_count": 102,
   "id": "b90f15d7-b059-47b1-8376-02e8b70395fb",
   "metadata": {},
   "outputs": [
    {
     "name": "stdout",
     "output_type": "stream",
     "text": [
      "----> [[1 2 3]\n",
      " [4 5 6]]\n",
      "----> [[1 2]\n",
      " [3 4]\n",
      " [5 6]]\n"
     ]
    }
   ],
   "source": [
    "# Resize\n",
    "\n",
    "arr1 = np.array([1,2,3,4,5,6])\n",
    "\n",
    "a = np.resize(arr1,(2,3))\n",
    "c = np.resize(arr1,(3,2))\n",
    "\n",
    "print(\"---->\",a)\n",
    "print(\"---->\",c)"
   ]
  },
  {
   "cell_type": "code",
   "execution_count": 103,
   "id": "1fa8a237-a6c9-474f-8835-44983025c3ff",
   "metadata": {},
   "outputs": [
    {
     "name": "stdout",
     "output_type": "stream",
     "text": [
      "[[1 2 3]\n",
      " [4 5 6]]\n",
      "[1 2 3 4 5 6]\n"
     ]
    }
   ],
   "source": [
    "# Flatten\n",
    "\n",
    "arr1 = np.array([1,2,3,4,5,6])\n",
    "\n",
    "a = np.resize(arr1,(2,3))\n",
    "\n",
    "print(a)\n",
    "\n",
    "# return Same size\n",
    "\n",
    "print(a.flatten())"
   ]
  },
  {
   "cell_type": "code",
   "execution_count": 104,
   "id": "c916d116-d8a4-47e6-b0eb-effdeebed32b",
   "metadata": {},
   "outputs": [
    {
     "name": "stdout",
     "output_type": "stream",
     "text": [
      "[1 2 3 4]\n",
      "[   1    2 2200    3    4]\n"
     ]
    }
   ],
   "source": [
    "# insert and Delete\n",
    "\n",
    "import numpy as np\n",
    "\n",
    "a = np.array([1,2,3,4])\n",
    "\n",
    "print(a)\n",
    "added = np.insert(a, 2,2200)\n",
    "\n",
    "print(added)"
   ]
  },
  {
   "cell_type": "code",
   "execution_count": 105,
   "id": "1b3d343d-d0a8-418f-b14d-0fc2ee293925",
   "metadata": {},
   "outputs": [
    {
     "name": "stdout",
     "output_type": "stream",
     "text": [
      "[1 2 3 4]\n",
      "[   1    2 2200    3    4 2200]\n"
     ]
    }
   ],
   "source": [
    "# insert\n",
    "\n",
    "import numpy as np\n",
    "\n",
    "a = np.array([1,2,3,4])\n",
    "\n",
    "print(a)\n",
    "added = np.insert(a, (2,4),2200)\n",
    "\n",
    "print(added)"
   ]
  },
  {
   "cell_type": "code",
   "execution_count": 112,
   "id": "dcc6683c-f0ca-4f77-bcfc-06d86ef7d2b1",
   "metadata": {},
   "outputs": [
    {
     "name": "stdout",
     "output_type": "stream",
     "text": [
      "[1 2 3 4]\n",
      "[1 2 3]\n",
      "[1 3 4]\n",
      "[1 2 4]\n"
     ]
    }
   ],
   "source": [
    "# Delete\n",
    "\n",
    "import numpy as np\n",
    "\n",
    "a = np.array([1,2,3,4])\n",
    "\n",
    "print(a)\n",
    "delete = np.delete(a, 3)\n",
    "delete1 = np.delete(a, 1)\n",
    "delete2 = np.delete(a, 2)\n",
    "\n",
    "print(delete)\n",
    "print(delete1)\n",
    "print(delete2)"
   ]
  },
  {
   "cell_type": "code",
   "execution_count": 114,
   "id": "1f01fd49-162d-4e52-8028-29f7ffc033d1",
   "metadata": {},
   "outputs": [
    {
     "name": "stdout",
     "output_type": "stream",
     "text": [
      "[[1 2]\n",
      " [3 4]]\n",
      "[[1 2]\n",
      " [3 4]]\n",
      "MUL:  [[ 7 10]\n",
      " [15 22]]\n"
     ]
    }
   ],
   "source": [
    "# matrix\n",
    "\n",
    "mat1 = np.matrix([[1,2],[3,4]])\n",
    "mat2 = np.matrix([[1,2],[3,4]])\n",
    "\n",
    "print(mat1)\n",
    "\n",
    "print(mat2)\n",
    "\n",
    "print(\"MUL: \",mat1 * mat2)"
   ]
  },
  {
   "cell_type": "code",
   "execution_count": 116,
   "id": "33ecff0f-c4a8-4b11-9367-c08b9f8bfce7",
   "metadata": {},
   "outputs": [
    {
     "name": "stdout",
     "output_type": "stream",
     "text": [
      "[[1 2 3]\n",
      " [3 4 6]\n",
      " [1 2 3]]\n",
      "[[1 2 3]\n",
      " [3 4 6]\n",
      " [1 2 3]]\n",
      "[[1 2 3]\n",
      " [3 4 6]\n",
      " [1 2 3]]\n",
      "MUL:  [[ 82 132 198]\n",
      " [174 280 420]\n",
      " [ 82 132 198]]\n"
     ]
    }
   ],
   "source": [
    "# 3*3\n",
    "\n",
    "import numpy as np\n",
    "\n",
    "mat1 = np.matrix([[1,2,3],[3,4,6],[1,2,3]])\n",
    "mat2 = np.matrix([[1,2,3],[3,4,6],[1,2,3]])\n",
    "mat3 = np.matrix([[1,2,3],[3,4,6],[1,2,3]])\n",
    "\n",
    "print(mat1)\n",
    "\n",
    "print(mat2)\n",
    "\n",
    "print(mat3)\n",
    "\n",
    "print(\"MUL: \",mat1 * mat2 * mat3)"
   ]
  },
  {
   "cell_type": "code",
   "execution_count": 118,
   "id": "84c00c20-e641-47c3-a49e-87a2f0df9885",
   "metadata": {},
   "outputs": [
    {
     "name": "stdout",
     "output_type": "stream",
     "text": [
      "[[1 2 3]\n",
      " [1 3 3]]\n"
     ]
    }
   ],
   "source": [
    "# Matrix Function\n",
    "\n",
    "# 1 Transpose\n",
    "\n",
    "# 2. Swapaxes\n",
    "\n",
    "# 3.Inverse\n",
    "\n",
    "# 4.Power\n",
    "\n",
    "# 5.Determinate\n",
    "\n",
    "import numpy as mt\n",
    "\n",
    "mat = mt.matrix([[1,2,3],[1,3,3]])\n",
    "print(mat)"
   ]
  },
  {
   "cell_type": "code",
   "execution_count": 119,
   "id": "33bb29d8-9222-4b4e-b959-19f40e3098a4",
   "metadata": {},
   "outputs": [
    {
     "name": "stdout",
     "output_type": "stream",
     "text": [
      "[[1 1 1]\n",
      " [2 2 2]]\n",
      "\n",
      "[[1 2]\n",
      " [1 2]\n",
      " [1 2]]\n",
      "\n"
     ]
    }
   ],
   "source": [
    "# 1 Transpose\n",
    "\n",
    "import numpy as mt\n",
    "\n",
    "mat = mt.matrix([[1,1,1],[2,2,2]])\n",
    "print(mat)\n",
    "print()\n",
    "\n",
    "print(mt.transpose(mat))\n",
    "print()"
   ]
  },
  {
   "cell_type": "code",
   "execution_count": 124,
   "id": "11a38077-f020-4533-8fb5-cc4b25ae636f",
   "metadata": {},
   "outputs": [
    {
     "name": "stdout",
     "output_type": "stream",
     "text": [
      "[[1 1 1]\n",
      " [2 2 2]]\n",
      "\n",
      "[[1 2]\n",
      " [1 2]\n",
      " [1 2]]\n"
     ]
    }
   ],
   "source": [
    "# 2. Swapaxes\n",
    "\n",
    "import numpy as mt\n",
    "\n",
    "mat = mt.matrix([[1,1,1],[2,2,2]])\n",
    "print(mat)\n",
    "print()\n",
    "\n",
    "print(mt.swapaxes(mat,0,1))"
   ]
  },
  {
   "cell_type": "code",
   "execution_count": 130,
   "id": "a8af4330-901e-4b89-be5a-4f2eea6acfd1",
   "metadata": {},
   "outputs": [
    {
     "name": "stdout",
     "output_type": "stream",
     "text": [
      "[[1 0]\n",
      " [0 1]]\n",
      "\n",
      "[[1. 0.]\n",
      " [0. 1.]]\n",
      "\n"
     ]
    }
   ],
   "source": [
    "# 3.Inverse\n",
    "\n",
    "import numpy as np\n",
    "\n",
    "mat = np.array([[1,0],[0,1]])\n",
    "print(mat)\n",
    "print()\n",
    "\n",
    "print(np.linalg.inv(mat))\n",
    "print()\n"
   ]
  },
  {
   "cell_type": "code",
   "execution_count": 132,
   "id": "13bad635-82f1-4bae-90d9-1928a0587674",
   "metadata": {},
   "outputs": [
    {
     "name": "stdout",
     "output_type": "stream",
     "text": [
      "[[2 2]\n",
      " [2 1]]\n",
      "\n",
      "[[8 6]\n",
      " [6 5]]\n"
     ]
    }
   ],
   "source": [
    "# 4.Power\n",
    "\n",
    "import numpy as np\n",
    "\n",
    "mat = np.array([[2,2],[2,1]])\n",
    "print(mat)\n",
    "print()\n",
    "\n",
    "print(np.linalg.matrix_power(mat,2))  # mat ** 2 ===> mat * mat"
   ]
  },
  {
   "cell_type": "code",
   "execution_count": 134,
   "id": "f009273c-61bd-488c-bc0c-b4a570200d09",
   "metadata": {},
   "outputs": [
    {
     "name": "stdout",
     "output_type": "stream",
     "text": [
      "[[2 2]\n",
      " [2 1]]\n",
      "\n",
      "-2.0\n"
     ]
    }
   ],
   "source": [
    "# 5.Determinate\n",
    "\n",
    "import numpy as np\n",
    "\n",
    "mat = np.array([[2,2],[2,1]])\n",
    "print(mat)\n",
    "print()\n",
    "\n",
    "print(np.linalg.det(mat))    #  a(qw-er) - b(we-we) + c(we-rt)"
   ]
  },
  {
   "cell_type": "code",
   "execution_count": null,
   "id": "35e4e5bc-9a2a-4925-9e87-2431b94b1185",
   "metadata": {},
   "outputs": [],
   "source": []
  }
 ],
 "metadata": {
  "kernelspec": {
   "display_name": "Python 3 (ipykernel)",
   "language": "python",
   "name": "python3"
  },
  "language_info": {
   "codemirror_mode": {
    "name": "ipython",
    "version": 3
   },
   "file_extension": ".py",
   "mimetype": "text/x-python",
   "name": "python",
   "nbconvert_exporter": "python",
   "pygments_lexer": "ipython3",
   "version": "3.12.3"
  }
 },
 "nbformat": 4,
 "nbformat_minor": 5
}
